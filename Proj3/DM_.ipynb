# @title
# ============================================================================
# ANÁLISIS DE CSV CON PREDICCIONES - VERSIÓN CORREGIDA FINAL
#correr en google colab!!
# ============================================================================

# Instalaciones necesarias
!pip install -q xlsxwriter openpyxl scikit-learn ipywidgets

# Imports
import pandas as pd
import matplotlib.pyplot as plt
import ipywidgets as widgets
from IPython.display import display, clear_output
import io
from sklearn.linear_model import LinearRegression
from sklearn.model_selection import train_test_split
from sklearn.metrics import mean_squared_error, r2_score
import warnings
import numpy as np
warnings.filterwarnings('ignore')

# ============================================================================
# VARIABLES GLOBALES
# ============================================================================
dataframes = {}

# ============================================================================
# INFORME EN HTML
# ============================================================================
informe_html = """
<div style="font-family: Arial, sans-serif; line-height: 1.6; padding: 20px; background-color: #f8f9fa; border-radius: 10px;">
    <h2 style="color: #007bff; border-bottom: 3px solid #007bff; padding-bottom: 10px;">
        📊 Informe del Sistema de Análisis
    </h2>

    <h3 style="color: #28a745; margin-top: 25px;">🎯 Funcionalidades Principales</h3>

    <div style="background-color: white; padding: 15px; border-radius: 5px; margin: 10px 0; border-left: 4px solid #007bff;">
        <h4 style="color: #007bff; margin-top: 0;">1️⃣ Subir Archivos CSV</h4>
        <ul>
            <li>Permite cargar <strong>uno o múltiples archivos CSV</strong></li>
            <li>Los archivos se <strong>acumulan</strong> (no se reemplazan)</li>
            <li>Detección automática de columnas numéricas y categóricas</li>
            <li>Vista previa de los primeros 10 registros</li>
        </ul>
    </div>

    <div style="background-color: white; padding: 15px; border-radius: 5px; margin: 10px 0; border-left: 4px solid #28a745;">
        <h4 style="color: #28a745; margin-top: 0;">2️⃣ Análisis Automático</h4>
        <ul>
            <li><strong>Estadísticas Descriptivas:</strong> Media, mediana, desviación estándar, min/max</li>
            <li><strong>Análisis de Correlación:</strong> Identifica relaciones entre variables numéricas</li>
            <li><strong>Análisis Categórico:</strong> Encuentra las mejores combinaciones de variables</li>
            <li><strong>Detección de Valores Nulos:</strong> Identifica datos faltantes</li>
            <li><strong>Detección de Duplicados:</strong> Encuentra registros repetidos</li>
        </ul>
    </div>

    <div style="background-color: white; padding: 15px; border-radius: 5px; margin: 10px 0; border-left: 4px solid #ffc107;">
        <h4 style="color: #ffc107; margin-top: 0;">3️⃣ Predicción con Machine Learning</h4>
        <ul>
            <li><strong>Modelo:</strong> Regresión Lineal</li>
            <li><strong>División:</strong> 80% entrenamiento, 20% prueba</li>
            <li><strong>Métricas:</strong>
                <ul>
                    <li><strong>RMSE</strong>: Cuanto menor, mejor</li>
                    <li><strong>R² Score</strong>: Valores cercanos a 1 son excelentes</li>
                </ul>
            </li>
            <li><strong>Visualización:</strong> Gráfico de Predicciones vs Valores Reales</li>
        </ul>
    </div>

    <div style="background-color: white; padding: 15px; border-radius: 5px; margin: 10px 0; border-left: 4px solid #dc3545;">
        <h4 style="color: #dc3545; margin-top: 0;">4️⃣ Exportación a Excel</h4>
        <p>Se genera un archivo Excel con 5 hojas:</p>
        <ul>
            <li><strong>Datos:</strong> Dataset original completo</li>
            <li><strong>Estadísticas:</strong> Análisis descriptivo</li>
            <li><strong>Correlación:</strong> Matriz de correlación</li>
            <li><strong>Análisis:</strong> Top 10 + gráfico</li>
            <li><strong>Predicciones:</strong> Resultados ML + gráfico</li>
        </ul>
    </div>

    <div style="background-color: #e3f2fd; padding: 15px; border-radius: 5px; margin: 20px 0;">
        <h3 style="color: #1976d2; margin-top: 0;">💡 Cómo Usar</h3>
        <ol>
            <li>Ve a la pestaña <strong>"Subir Archivos"</strong></li>
            <li>Haz clic en <strong>"Upload"</strong></li>
            <li>Selecciona archivo del menú</li>
            <li>Haz clic en <strong>"Analizar"</strong></li>
            <li>Descarga el Excel generado</li>
        </ol>
    </div>
</div>
"""

# ============================================================================
# WIDGETS
# ============================================================================

uploader = widgets.FileUpload(
    accept='.csv',
    multiple=True,
    description='Seleccionar',
    button_style='info'
)

combo_csv = widgets.Dropdown(
    description='Archivo CSV:',
    options=[],
    layout=widgets.Layout(width='80%')
)

boton_analizar = widgets.Button(
    description="📤 Analizar y Exportar",
    button_style='success',
    layout=widgets.Layout(width='50%', height='50px')
)

output = widgets.Output()

archivos_cargados = widgets.HTML(
    value='<p style="color: gray;">No hay archivos cargados</p>'
)

# ============================================================================
# FUNCIONES
# ============================================================================

def actualizar_lista_archivos():
    """Actualiza la visualización de archivos cargados"""
    if not dataframes:
        archivos_cargados.value = '<p style="color: gray;">No hay archivos cargados</p>'
        combo_csv.options = []
        return

    html_lista = '<div style="background-color: #f8f9fa; padding: 15px; border-radius: 5px;">'
    html_lista += f'<h4 style="color: #007bff;">📁 Archivos Cargados ({len(dataframes)})</h4>'

    for idx, (name, df) in enumerate(dataframes.items(), 1):
        try:
            num_cols = len(df.select_dtypes(include='number').columns)
            cat_cols = len(df.select_dtypes(include='object').columns)

            html_lista += f'''
            <div style="background-color: white; padding: 10px; margin: 5px 0; border-radius: 5px; border-left: 4px solid #28a745;">
                <strong>{idx}. {name}</strong><br>
                <small style="color: #6c757d;">
                    📏 {df.shape[0]} filas × {df.shape[1]} columnas |
                    🔢 {num_cols} numéricas |
                    📝 {cat_cols} categóricas
                </small>
            </div>
            '''
        except Exception as e:
            html_lista += f'<div style="color: red;">Error: {name}</div>'

    html_lista += '</div>'
    archivos_cargados.value = html_lista
    combo_csv.options = list(dataframes.keys())

def on_upload_change(change):
    """Maneja la carga de archivos - ACUMULA en lugar de reemplazar"""
    with output:
        clear_output()

        if not uploader.value:
            print("⚠️ No hay archivos cargados")
            return

        print("📂 Procesando archivos...")

        archivos_nuevos = 0
        for name, file_info in uploader.value.items():
            if name not in dataframes:
                try:
                    df = pd.read_csv(io.BytesIO(file_info['content']))
                    dataframes[name] = df
                    archivos_nuevos += 1
                    print(f"✅ {name}: {df.shape[0]} filas × {df.shape[1]} columnas")
                except Exception as e:
                    print(f"❌ Error con {name}: {e}")

        if archivos_nuevos > 0:
            print(f"\n✅ {archivos_nuevos} archivo(s) nuevo(s) agregado(s)")
            print(f"📊 Total acumulado: {len(dataframes)} archivo(s)")
        else:
            print("ℹ️ No se encontraron archivos nuevos")

        actualizar_lista_archivos()

def ver_csv(change):
    """Muestra vista previa del CSV seleccionado"""
    nombre = combo_csv.value

    if nombre and nombre in dataframes:
        with output:
            clear_output()
            df = dataframes[nombre]

            print(f"📊 Vista previa: {nombre}")
            print(f"📏 Dimensiones: {df.shape[0]} filas × {df.shape[1]} columnas")
            print(f"🔢 Numéricas: {len(df.select_dtypes(include='number').columns)}")
            print(f"📝 Categóricas: {len(df.select_dtypes(include='object').columns)}")
            print(f"⚠️ Nulos: {df.isnull().sum().sum()}")
            print(f"🔄 Duplicados: {df.duplicated().sum()}")
            print("\n" + "="*70)
            display(df.head(10))

def analizar_y_exportar(button):
    """Función principal de análisis"""

    if not combo_csv.value or combo_csv.value not in dataframes:
        with output:
            clear_output()
            print("⚠️ Selecciona un archivo del menú")
        return

    with output:
        clear_output()
        print("🔄 Iniciando análisis...")
        print("="*70)

        df = dataframes[combo_csv.value]
        nombre_archivo = combo_csv.value

        # 1. ANÁLISIS DESCRIPTIVO
        print("\n📊 1/5 - Análisis Descriptivo")
        print("-"*70)

        df_num = df.select_dtypes(include=['number'])
        df_cat = df.select_dtypes(include=['object'])

        if df_num.empty:
            print("❌ No hay columnas numéricas")
            return

        print(f"✅ Numéricas: {list(df_num.columns)}")
        print(f"✅ Categóricas: {list(df_cat.columns)}")

        estadisticas = df_num.describe()
        display(estadisticas)

        # 2. CORRELACIÓN
        print("\n📈 2/5 - Correlación")
        print("-"*70)

        correlacion = None
        if len(df_num.columns) >= 2:
            correlacion = df_num.corr()
            print("✅ Matriz calculada")
            display(correlacion)

            mask = (correlacion.abs() > 0.5) & (correlacion != 1.0)
            if mask.any().any():
                print("\n🔍 Correlaciones fuertes (|r| > 0.5):")
                for i in range(len(correlacion.columns)):
                    for j in range(i+1, len(correlacion.columns)):
                        if mask.iloc[i, j]:
                            print(f"  {correlacion.columns[i]} ↔ {correlacion.columns[j]}: {correlacion.iloc[i, j]:.3f}")
        else:
            print("⚠️ Se necesitan 2+ columnas numéricas")

        # 3. ANÁLISIS CATEGÓRICO
        print("\n🎯 3/5 - Análisis Categórico")
        print("-"*70)

        mejor_combinacion = None
        max_varianza = 0

        if not df_cat.empty and not df_num.empty:
            for cat in df_cat.columns:
                for num in df_num.columns:
                    try:
                        grupo = df.groupby(cat)[num].sum().sort_values(ascending=False)
                        if len(grupo) >= 2:
                            var = grupo.var()
                            if var > max_varianza:
                                max_varianza = var
                                mejor_combinacion = (cat, num, grupo)
                    except:
                        pass

        top10 = None
        grafico1_path = None

        if mejor_combinacion:
            cat, num, datos = mejor_combinacion
            top10 = datos.head(10)

            print(f"✅ Mejor combinación:")
            print(f"   Categórica: {cat}")
            print(f"   Numérica: {num}")
            print(f"   Varianza: {max_varianza:.2f}")
            display(top10.reset_index())

            fig1, ax1 = plt.subplots(figsize=(12, 6))
            ax1.bar(range(len(top10)), top10.values, color='steelblue', edgecolor='black')
            ax1.set_xticks(range(len(top10)))
            ax1.set_xticklabels(top10.index, rotation=45, ha='right')
            ax1.set_title(f'{cat} vs {num}', fontsize=14, fontweight='bold')
            ax1.set_ylabel(num)
            ax1.set_xlabel(cat)
            ax1.grid(axis='y', alpha=0.3)
            plt.tight_layout()

            grafico1_path = "grafico_analisis.png"
            fig1.savefig(grafico1_path, dpi=150, bbox_inches='tight')
            display(fig1)
            plt.close(fig1)
        else:
            print("⚠️ No se encontró combinación válida")

        # 4. PREDICCIÓN ML
        print("\n🔮 4/5 - Predicción ML")
        print("-"*70)

        df_predicciones = None
        grafico2_path = None

        if len(df_num.columns) >= 2:
            df_clean = df_num.dropna()

            if len(df_clean) >= 10:
                X = df_clean.iloc[:, :-1]
                y = df_clean.iloc[:, -1]

                print(f"✅ Variables X: {list(X.columns)}")
                print(f"✅ Variable Y: {y.name}")

                X_train, X_test, y_train, y_test = train_test_split(
                    X, y, test_size=0.2, random_state=42
                )

                modelo = LinearRegression()
                modelo.fit(X_train, y_train)
                y_pred = modelo.predict(X_test)

                mse = mean_squared_error(y_test, y_pred)
                rmse = np.sqrt(mse)
                r2 = r2_score(y_test, y_pred)

                print(f"\n📊 Resultados:")
                print(f"  RMSE: {rmse:.3f}")
                print(f"  R²: {r2:.3f}")

                df_predicciones = pd.DataFrame({
                    'Reales': y_test,
                    'Predicciones': y_pred,
                    'Error': y_test - y_pred
                })

                fig2, ax2 = plt.subplots(figsize=(10, 6))
                ax2.scatter(y_test, y_pred, color='red', edgecolor='black', alpha=0.7)
                ax2.plot([y_test.min(), y_test.max()], [y_test.min(), y_test.max()], 'b--', lw=2)
                ax2.set_title(f'Predicciones vs Reales (R²={r2:.2f})', fontsize=14, fontweight='bold')
                ax2.set_xlabel('Reales')
                ax2.set_ylabel('Predicciones')
                ax2.grid(alpha=0.3)
                plt.tight_layout()

                grafico2_path = "grafico_predicciones.png"
                fig2.savefig(grafico2_path, dpi=150, bbox_inches='tight')
                display(fig2)
                plt.close(fig2)
            else:
                print("⚠️ Datos insuficientes (mínimo 10)")
        else:
            print("⚠️ Se necesitan 2+ columnas numéricas")

        # 5. EXPORTAR
        print("\n💾 5/5 - Exportando")
        print("-"*70)

        excel_path = nombre_archivo.replace('.csv', '_analisis.xlsx')

        try:
            with pd.ExcelWriter(excel_path, engine='xlsxwriter') as writer:
                df.to_excel(writer, sheet_name='Datos', index=False)
                estadisticas.to_excel(writer, sheet_name='Estadísticas')

                if correlacion is not None:
                    correlacion.to_excel(writer, sheet_name='Correlación')

                if top10 is not None:
                    top10.to_excel(writer, sheet_name='Análisis')
                    if grafico1_path:
                        worksheet = writer.sheets['Análisis']
                        worksheet.insert_image('E2', grafico1_path)

                if df_predicciones is not None:
                    df_predicciones.to_excel(writer, sheet_name='Predicciones', index=False)
                    if grafico2_path:
                        worksheet = writer.sheets['Predicciones']
                        worksheet.insert_image('F2', grafico2_path)

            print(f"✅ Exportado: {excel_path}")
            print("📥 Descárgalo del panel lateral")
        except Exception as e:
            print(f"❌ Error: {e}")

        print("="*70)
        print("✅ COMPLETADO")

# ============================================================================
# EVENTOS
# ============================================================================
uploader.observe(on_upload_change, names='value')
combo_csv.observe(ver_csv, names='value')
boton_analizar.on_click(analizar_y_exportar)

# ============================================================================
# INTERFAZ
# ============================================================================
informe_widget = widgets.HTML(value=informe_html)

tab = widgets.Tab()
tab.children = [
    widgets.VBox([informe_widget]),
    widgets.VBox([
        widgets.HTML('<h3>📤 Subir Archivos CSV</h3>'),
        uploader,
        archivos_cargados,
        widgets.HTML('<h3>📊 Seleccionar Archivo</h3>'),
        combo_csv,
        widgets.HTML('<br>'),
        boton_analizar,
        widgets.HTML('<br>'),
        output
    ])
]

tab.set_title(0, '📄 Informe')
tab.set_title(1, '📤 Subir Archivos')

# ============================================================================
# MOSTRAR
# ============================================================================
display(widgets.HTML('<h1 style="text-align: center; color: #007bff;">📊 Análisis de Datos con ML</h1>'))
display(tab)
